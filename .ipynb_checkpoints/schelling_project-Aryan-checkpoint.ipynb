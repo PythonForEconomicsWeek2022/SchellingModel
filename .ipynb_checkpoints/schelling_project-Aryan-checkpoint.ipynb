{
 "cells": [
  {
   "cell_type": "code",
   "execution_count": 3,
   "metadata": {},
   "outputs": [],
   "source": [
    "import matplotlib.pyplot as plt\n",
    "import itertools\n",
    "import random\n",
    "import copy"
   ]
  },
  {
   "cell_type": "markdown",
   "metadata": {},
   "source": [
    "#### A. Create a class called **Schelling**, with attributes width (how many houses there are on the horizontal axis), height (how many houses on the vertical axis), empty_ratio (number of empty locations), similarity_threshold (the percentage of neighbours that you want to have in your neighbourhood), n_iterations (how many iterations of the Schelling process we do), races (number of races). (Note: we will add other attributes along the way)."
   ]
  },
  {
   "cell_type": "code",
   "execution_count": 32,
   "metadata": {},
   "outputs": [],
   "source": [
    "\n",
    "class Schelling:\n",
    "    \n",
    "    def __init__(self,width,height,empty_ratio,similarity_threshold,n_iterations,races):\n",
    "        self.width = width\n",
    "        self.height = height\n",
    "        self.empty_ratio = empty_ratio\n",
    "        self.similarity_threshold = similarity_threshold\n",
    "        self.n_iterations = n_iterations\n",
    "        self.races = races\n",
    "        \n",
    "    def populate(self):\n",
    "        self.empty_houses = []\n",
    "        self.agents = {}\n",
    "        self.all_houses = list(itertools.product(list(range(0,self.width)),list(range(0,self.height))))\n",
    "        random.shuffle(self.all_houses)\n",
    "        self.n_empty = int(self.width*self.height*self.empty_ratio)\n",
    "        self.empty_houses = self.all_houses[-self.n_empty:]\n",
    "        self.remaining_houses = self.all_houses[:-self.n_empty]\n",
    "            \n",
    "        for i in self.remaining_houses:\n",
    "            self.agents[i] = random.randint(1,self.races)\n",
    "        \n",
    "    def plot_city(self):\n",
    "        colour = {1:'r',2:'b',3:'g'}\n",
    "        counter = 1\n",
    "        fig, ax = plt.subplots()\n",
    "        for key,value in self.agents.items():\n",
    "            ax.scatter(key[0]+0.5,key[1]+0.5, marker = 's',s=500,c=colour[value])\n",
    "        plt.subplots_adjust(left=0, right=0.6, bottom=0.1,top=1)\n",
    "        plt.grid()\n",
    "        plt.xticks(list(range(self.width)))\n",
    "        plt.yticks(list(range(self.height)))\n",
    "        plt.show()\n",
    "        \n",
    "    def is_unsatisfied(self,agent):\n",
    "        neighbours = []\n",
    "        for x in [-1,0,1]:\n",
    "            for y in [-1,0,1]:\n",
    "                if agent[0]+x >= 0 and agent[0]+x < self.width and agent[1]+y >= 0 and agent[1]+y < self.height:\n",
    "                    neighbour = ((agent[0]+x, agent[1]+y))\n",
    "                    neighbours.append(neighbour)\n",
    "        neighbours.remove(agent)\n",
    "        race = self.agents[agent]\n",
    "        similarity_counter = 0\n",
    "        for n in neighbours:\n",
    "            if  race == self.agents.get(n,0):\n",
    "                similarity_counter += 1\n",
    "        similarity_ratio = similarity_counter/ len(neighbours)\n",
    "        if similarity_ratio < self.similarity_threshold:\n",
    "            return True \n",
    "        else:\n",
    "            return False  \n",
    "    \n",
    "    def update(self):\n",
    "        for n in self.all_houses:\n",
    "            if n in self.empty_houses:\n",
    "                pass\n",
    "            elif self.is_unsatisfied(n) == True:\n",
    "                rand = random.randint(0,len(self.empty_houses)-1)\n",
    "                new_location = self.empty_houses.pop(rand)\n",
    "                self.empty_houses.append(n)\n",
    "                race = self.agents.pop(n)\n",
    "                self.remaining_houses.append(new_location)\n",
    "                self.agents[new_location] = race   \n",
    "                \n",
    "    def similarity_index(self):\n",
    "        similarity_per_agent = []\n",
    "        for n in self.all_houses:\n",
    "            if n in self.empty_houses:\n",
    "                pass\n",
    "            else :\n",
    "                neighbours = []\n",
    "                for x in [-1,0,1]:\n",
    "                    for y in [-1,0,1]:\n",
    "                        if n[0]+x >= 0 and n[0]+x < self.width and n[1]+y >= 0 and n[1]+y < self.height:\n",
    "                            neighbour = ((n[0]+x, n[1]+y))\n",
    "                            neighbours.append(neighbour)\n",
    "                neighbours.remove(n)\n",
    "                race = self.agents[n]\n",
    "                similarity_counter = 0\n",
    "                for k in neighbours:\n",
    "                    if  race == self.agents.get(k,0):\n",
    "                        similarity_counter += 1\n",
    "                similarity_ratio = similarity_counter/ len(neighbours)\n",
    "                similarity_per_agent.append(similarity_ratio)\n",
    "        similarity_index = sum(similarity_per_agent)/len(self.remaining_houses)\n",
    "        similarity_index = 1 - similarity_index\n",
    "        return similarity_index\n",
    "    \n",
    "    def simulation(self,similarity_index_threshold):\n",
    "        self.populate()\n",
    "        index = self.similarity_index()\n",
    "        while index < similarity_index_threshold :\n",
    "            self.plot_city()\n",
    "            self.update()\n",
    "            index = self.similarity_index()\n",
    "            if index >= similarity_index_threshold: \n",
    "                break \n",
    "            "
   ]
  },
  {
   "cell_type": "code",
   "execution_count": 51,
   "metadata": {},
   "outputs": [
    {
     "data": {
      "image/png": "[encoded data removed]",
      "text/plain": [
       "<Figure size 432x288 with 1 Axes>"
      ]
     },
     "metadata": {
      "needs_background": "light"
     },
     "output_type": "display_data"
    },
    {
     "data": {
      "image/png": "[encoded data removed]",
      "text/plain": [
       "<Figure size 432x288 with 1 Axes>"
      ]
     },
     "metadata": {
      "needs_background": "light"
     },
     "output_type": "display_data"
    },
    {
     "data": {
      "image/png": "[encoded data removed]",
      "text/plain": [
       "<Figure size 432x288 with 1 Axes>"
      ]
     },
     "metadata": {
      "needs_background": "light"
     },
     "output_type": "display_data"
    },
    {
     "data": {
      "image/png": "[encoded data removed]",
      "text/plain": [
       "<Figure size 432x288 with 1 Axes>"
      ]
     },
     "metadata": {
      "needs_background": "light"
     },
     "output_type": "display_data"
    },
    {
     "data": {
      "image/png": "[encoded data removed]",
      "text/plain": [
       "<Figure size 432x288 with 1 Axes>"
      ]
     },
     "metadata": {
      "needs_background": "light"
     },
     "output_type": "display_data"
    },
    {
     "data": {
      "image/png": "[encoded data removed]",
      "text/plain": [
       "<Figure size 432x288 with 1 Axes>"
      ]
     },
     "metadata": {
      "needs_background": "light"
     },
     "output_type": "display_data"
    }
   ],
   "source": [
    "city = Schelling(10,10,0.2,0.3,100,3)\n",
    "#city.populate()\n",
    "#city.plot_city()\n",
    "#city.similarity_index()\n",
    "#city.is_unsatisfied((5,3))\n",
    "city.simulation(0.7805)"
   ]
  },
  {
   "cell_type": "markdown",
   "metadata": {},
   "source": [
    "#### G. Use this class to generate some experiments, by playing with the parameters (size of the city, similarity threshold, number of races, etc.) \n",
    "\n",
    "Make several experiments to analyse how the results change when we change one parameter at the time. "
   ]
  },
  {
   "cell_type": "code",
   "execution_count": 11,
   "metadata": {},
   "outputs": [],
   "source": [
    "\n",
    "class Schelling_Advanced:\n",
    "    \n",
    "    def __init__(self,width,height,empty_ratio,similarity_threshold,n_iterations,races):\n",
    "        self.width = width\n",
    "        self.height = height\n",
    "        self.empty_ratio = empty_ratio\n",
    "        self.similarity_threshold = similarity_threshold\n",
    "        self.n_iterations = n_iterations\n",
    "        self.races = races\n",
    "        \n",
    "    def populate(self):\n",
    "        self.empty_houses = []\n",
    "        self.agents = {}\n",
    "        self.all_houses = list(itertools.product(list(range(0,self.width)),list(range(0,self.height))))\n",
    "        random.shuffle(self.all_houses)\n",
    "        self.n_empty = int(self.width*self.height*self.empty_ratio)\n",
    "        self.empty_houses = self.all_houses[-self.n_empty:]\n",
    "        self.remaining_houses = self.all_houses[:-self.n_empty]\n",
    "            \n",
    "        for i in self.remaining_houses:\n",
    "            self.agents[i] = random.randint(1,self.races)\n",
    "        \n",
    "    def plot_city(self):\n",
    "        colour = {1:'r',2:'b',3:'g',4:'y',5:'k'}\n",
    "        counter = 1\n",
    "        fig, ax = plt.subplots()\n",
    "        for key,value in self.agents.items():\n",
    "            ax.scatter(key[0]+0.5,key[1]+0.5, marker = 's',s=500,c=colour[value])\n",
    "        plt.subplots_adjust(left=0, right=0.6, bottom=0.1,top=1)\n",
    "        plt.grid()\n",
    "        plt.xticks(list(range(self.width)))\n",
    "        plt.yticks(list(range(self.height)))\n",
    "        plt.show()\n",
    "        \n",
    "    def is_unsatisfied(self,agent):\n",
    "        neighbours = []\n",
    "        for x in [-1,0,1]:\n",
    "            for y in [-1,0,1]:\n",
    "                if agent[0]+x >= 0 and agent[0]+x < self.width and agent[1]+y >= 0 and agent[1]+y < self.height:\n",
    "                    neighbour = ((agent[0]+x, agent[1]+y))\n",
    "                    neighbours.append(neighbour)\n",
    "        neighbours.remove(agent)\n",
    "        race = self.agents[agent]\n",
    "        similarity_counter = 0\n",
    "        for n in neighbours:\n",
    "            if  race == self.agents.get(n,0):\n",
    "                similarity_counter += 1\n",
    "        similarity_ratio = similarity_counter/ len(neighbours)\n",
    "        if similarity_ratio < self.similarity_threshold:\n",
    "            return True \n",
    "        else:\n",
    "            return False  \n",
    "    \n",
    "    def update(self):\n",
    "        for n in self.all_houses:\n",
    "            if n in self.empty_houses:\n",
    "                pass\n",
    "            elif self.is_unsatisfied(n) == True:\n",
    "                rand = random.randint(0,len(self.empty_houses)-1)\n",
    "                new_location = self.empty_houses.pop(rand)\n",
    "                self.empty_houses.append(n)\n",
    "                race = self.agents.pop(n)\n",
    "                self.remaining_houses.append(new_location)\n",
    "                self.agents[new_location] = race   \n",
    "                \n",
    "    def similarity_index(self):\n",
    "        similarity_per_agent = []\n",
    "        for n in self.all_houses:\n",
    "            if n in self.empty_houses:\n",
    "                pass\n",
    "            else :\n",
    "                neighbours = []\n",
    "                for x in [-1,0,1]:\n",
    "                    for y in [-1,0,1]:\n",
    "                        if n[0]+x >= 0 and n[0]+x < self.width and n[1]+y >= 0 and n[1]+y < self.height:\n",
    "                            neighbour = ((n[0]+x, n[1]+y))\n",
    "                            neighbours.append(neighbour)\n",
    "                neighbours.remove(n)\n",
    "                race = self.agents[n]\n",
    "                similarity_counter = 0\n",
    "                for k in neighbours:\n",
    "                    if  race == self.agents.get(k,0):\n",
    "                        similarity_counter += 1\n",
    "                similarity_ratio = similarity_counter/ len(neighbours)\n",
    "                similarity_per_agent.append(similarity_ratio)\n",
    "        similarity_index = sum(similarity_per_agent)/len(self.remaining_houses)\n",
    "        similarity_index = 1 - similarity_index\n",
    "        return similarity_index\n",
    "    \n",
    "    def simulation(self,similarity_index_threshold):\n",
    "        self.populate()\n",
    "        index = self.similarity_index()\n",
    "        while index < similarity_index_threshold :\n",
    "            self.plot_city()\n",
    "            self.update()\n",
    "            index = self.similarity_index()\n",
    "            if index >= similarity_index_threshold: \n",
    "                break \n",
    "            "
   ]
  },
  {
   "cell_type": "code",
   "execution_count": 12,
   "metadata": {},
   "outputs": [
    {
     "data": {
      "image/png": "[encoded data removed]",
      "text/plain": [
       "<Figure size 432x288 with 1 Axes>"
      ]
     },
     "metadata": {
      "needs_background": "light"
     },
     "output_type": "display_data"
    }
   ],
   "source": [
    "city_2 = Schelling_Advanced(15,15,0.2,0.3,100,5)\n",
    "city_2.populate()\n",
    "city_2.plot_city()\n",
    "#city.similarity_index()\n",
    "#city.is_unsatisfied((5,3))"
   ]
  },
  {
   "cell_type": "code",
   "execution_count": null,
   "metadata": {},
   "outputs": [],
   "source": []
  }
 ],
 "metadata": {
  "file_extension": ".py",
  "kernelspec": {
   "display_name": "Python 3",
   "language": "python",
   "name": "python3"
  },
  "language_info": {
   "codemirror_mode": {
    "name": "ipython",
    "version": 3
   },
   "file_extension": ".py",
   "mimetype": "text/x-python",
   "name": "python",
   "nbconvert_exporter": "python",
   "pygments_lexer": "ipython3",
   "version": "3.7.4"
  },
  "mimetype": "text/x-python",
  "name": "python",
  "npconvert_exporter": "python",
  "pygments_lexer": "ipython3",
  "version": 3
 },
 "nbformat": 4,
 "nbformat_minor": 4
}
