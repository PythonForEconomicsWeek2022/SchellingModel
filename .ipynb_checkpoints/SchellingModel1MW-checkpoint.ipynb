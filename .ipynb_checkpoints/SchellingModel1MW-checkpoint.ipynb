{
 "cells": [
  {
   "cell_type": "code",
   "execution_count": 1,
   "metadata": {},
   "outputs": [],
   "source": [
    "import matplotlib.pyplot as plt\n",
    "import itertools\n",
    "import random\n",
    "import copy\n",
    "import pandas as pd\n",
    "import numpy as np"
   ]
  },
  {
   "cell_type": "code",
   "execution_count": 163,
   "metadata": {},
   "outputs": [],
   "source": [
    "class Schelling:\n",
    "    def __init__(self,width,height,empty_ratio,similarity_threshold,n_iterations,races):\n",
    "        self.width = width\n",
    "        self.height = height\n",
    "        self.empty_ratio = empty_ratio\n",
    "        self.similarity_threshold = similarity_threshold\n",
    "        self.n_iterations = n_iterations\n",
    "        self.races = races\n",
    "        \n",
    "    def populate(self):\n",
    "        self.agents = {}\n",
    "        self.all_houses = list(itertools.product(list(range(0,self.width)), list(range(0,self.height))))\n",
    "        random.shuffle(self.all_houses)\n",
    "        \n",
    "        self.n_empty = int(self.width*self.height*self.empty_ratio)\n",
    "        self.empty_houses = self.all_houses[-self.n_empty:]\n",
    "        self.remaining_houses = self.all_houses[:-self.n_empty]\n",
    "        \n",
    "        for agent in self.remaining_houses:\n",
    "            self.agents[agent] = random.randint(1,self.races)\n",
    "    \n",
    "    def plot_city(self):\n",
    "        colour = {1:'r',2:'b',3:'g'}\n",
    "        counter = 1\n",
    "        #for agent in range(len(self.agents)):\n",
    "         #   if self.agents[agent] == counter:\n",
    "        fig, ax = plt.subplots()\n",
    "        for key,value in self.agents.items():\n",
    "            ax.scatter(key[0]+0.5,key[1]+0.5, marker = 's',s=500,c=colour[value])\n",
    "        plt.subplots_adjust(wspace=1)\n",
    "        plt.grid()\n",
    "        plt.xticks(list(range(self.width)))\n",
    "        plt.yticks(list(range(self.height)))\n",
    "        plt.show()"
   ]
  },
  {
   "cell_type": "code",
   "execution_count": 164,
   "metadata": {
    "scrolled": false
   },
   "outputs": [
    {
     "data": {
      "image/png": "[encoded data removed]",
      "text/plain": [
       "<Figure size 432x288 with 1 Axes>"
      ]
     },
     "metadata": {
      "needs_background": "light"
     },
     "output_type": "display_data"
    }
   ],
   "source": [
    "city = Schelling(12,10,0.3,0.5,100,3)\n",
    "city.populate()\n",
    "#print(city.agents)\n",
    "city.plot_city()\n"
   ]
  },
  {
   "cell_type": "code",
   "execution_count": 70,
   "metadata": {},
   "outputs": [
    {
     "data": {
      "image/png": "[encoded data removed]",
      "text/plain": [
       "<Figure size 432x288 with 1 Axes>"
      ]
     },
     "metadata": {
      "needs_background": "light"
     },
     "output_type": "display_data"
    }
   ],
   "source": [
    "import matplotlib.pyplot as plt\n",
    "x_values = list(range(10))\n",
    "squares = [x**2 for x in x_values]\n",
    "fig, ax = plt.subplots()\n",
    "ax.scatter(self.all_houses, marker = 's',s=1100)\n",
    "plt.show()"
   ]
  }
 ],
 "metadata": {
  "kernelspec": {
   "display_name": "Python 3",
   "language": "python",
   "name": "python3"
  },
  "language_info": {
   "codemirror_mode": {
    "name": "ipython",
    "version": 3
   },
   "file_extension": ".py",
   "mimetype": "text/x-python",
   "name": "python",
   "nbconvert_exporter": "python",
   "pygments_lexer": "ipython3",
   "version": "3.7.4"
  }
 },
 "nbformat": 4,
 "nbformat_minor": 5
}
