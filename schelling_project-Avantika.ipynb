{
 "cells": [
  {
   "cell_type": "markdown",
   "metadata": {},
   "source": [
    "# An Introduction to Agent-Based Models: Simulating Segregation with Python\n",
    "\n",
    "In this project, we will explore an approach that has become popular in economics: agent-based models. These are models in which agents are assumed to follow very simple behavioural rules. Their interaction, however, yields complex dynamics and sometimes surprising results. \n",
    "\n",
    "One of the pioneers of these models is Schelling. He used this approach to study the phenomenon of racial segregation in urban areas, i.e. the fact that neighboroods in large cities tend to become racially homogenous, creating a racial segregation in the urban space. \n",
    "\n"
   ]
  },
  {
   "cell_type": "markdown",
   "metadata": {},
   "source": [
    "\n",
    "## Motivation\n",
    "\n",
    "Many US cities are extremely racially segregated. People from the same race tend to live in the same neighborood. The map below is from Chicago. \n",
    "\n",
    "<img src=\"silver-segregation-hydepark-dot.png\" alt=\"alt text\" width=\"400\"/>\n",
    "\n",
    "Source: https://fivethirtyeight.com/features/the-most-diverse-cities-are-often-the-most-segregated/\n",
    "\n",
    "\n",
    "\n",
    "Source: http://demographics.coopercenter.org/DotMap/index.html -->\n",
    "\n",
    "This is a phenomenon that is common to most US cities, and also some European ones. Here is a map of London, showing a similar segregation:\n",
    "\n",
    "<img src=\"http://blogs.lshtm.ac.uk/news/files/2013/12/ethnic_density.jpg\" alt=\"alt text\" width=\"400\"/>\n",
    "\n",
    "Source: https://blogs.lshtm.ac.uk/news/2013/12/10/mapping-londons-population-by-ethnic-group/\n",
    "\n",
    "How come? This outcome makes people suspect that the residents of those areas are racist. However, since it is a phenomenon which is observed even in more progressive and multicultural areas (i.e. London), there may be some other mechanism at work too. Thomas Schelling, who won the Nobel Prize in Economics in 2005, explained that there is a strong force behined this phenomenon, which is homophily: people tend to hang out with other people with similar characteristics. Schelling modelled this mechanism in a very simple setup, and then showed that, even abstracting from explanations relying on intolerance and racism, we would still get a pretty segregated urban landscape. \n",
    "\n",
    "This intuition generated lots of research, and current studies about racial segregation are substantially based on a Schelling model on steroids. With this project, we will build a version of this model, and we will perform some simulations to establish the consequences of playing with parameters' values. \n",
    "\n",
    "\n"
   ]
  },
  {
   "cell_type": "markdown",
   "metadata": {},
   "source": [
    "\n",
    "## The Model\n",
    "\n",
    "The model that Schelling developed is very simple. We have some people living in a city, which for simplicity we will assume is rectangular. Each person can live in a location/house in this city (think of it as a little square of land in the rectangle). People can be from one of $ n$ races. \n",
    "\n",
    "Each location can be empty or occupied. For simplicity, we will assume that each house can be occupied by one person only (although we could interpret each agent in this society as a family). Empty houses will be coloured in white. Occupied houses will be colored with the color of the specific race of the person that occupies it. \n",
    "\n",
    "Each person cares about the race of the people living in the neighbourhood. A neighbourhood will be composed by the 8 locations/houses/little squares surrounding the house where one person lives. In the following figure, we can see there is one person living in the cell in cyan. The neighbours are the cells in red.\n",
    "\n",
    "<img src=\"CA-Moore.png\" alt=\"alt text\" width=\"200\"/>\n",
    "\n",
    "Schelling assumed that the behaviour of the agents is described by a simple rule: if the ratio of neighbours that belong to your race is lower than a specified threshold, you want to move to another neighbourhood, otherwise you stay where you are. A person that wants to stay is usually said to be satisfied with the location. A person that wants to move is called unsatisfied. \n",
    "\n",
    "Schelling model starts from an initial distribution of the people in the city, and then checks of each one of them is satisfied or not. All those unsatisfied get moved to an empty location. After a few iterations of this procedure, we usually converge to a stable situation in which everybody is satisfied. \n"
   ]
  },
  {
   "cell_type": "markdown",
   "metadata": {},
   "source": [
    "## The code\n",
    "\n",
    "We will create a class for the Schelling model, and then use it for simulations.\n",
    "First, we will import the libraries needed for this project. "
   ]
  },
  {
   "cell_type": "code",
   "execution_count": 8,
   "metadata": {},
   "outputs": [],
   "source": [
    "import matplotlib.pyplot as plt\n",
    "import itertools\n",
    "import random\n",
    "import copy\n",
    "import pandas as pd\n",
    "import numpy as np"
   ]
  },
  {
   "cell_type": "markdown",
   "metadata": {},
   "source": [
    "#### A. Create a class called **Schelling**, with attributes width (how many houses there are on the horizontal axis), height (how many houses on the vertical axis), empty_ratio (number of empty locations), similarity_threshold (the percentage of neighbours that you want to have in your neighbourhood), n_iterations (how many iterations of the Schelling process we do), races (number of races). (Note: we will add other attributes along the way)."
   ]
  },
  {
   "cell_type": "markdown",
   "metadata": {},
   "source": [
    "When creating a class, the first thing is to write a constructor method, i.e. a function that will create an instance of the class with the attributes we want this class to have. Fill in the gaps in the following cell:"
   ]
  },
  {
   "cell_type": "code",
   "execution_count": 428,
   "metadata": {},
   "outputs": [],
   "source": [
    "class Schelling:\n",
    "    def __init__(self,width,height,empty_ratio,similarity_threshold,n_iterations,races):\n",
    "        self.width = width\n",
    "        self.height = height\n",
    "        self.empty_ratio = empty_ratio\n",
    "        self.similarity_threshold = similarity_threshold\n",
    "        self.n_iterations = n_iterations\n",
    "        self.races = races\n",
    "        \n",
    "    def populate(self):\n",
    "        self.agents = {}\n",
    "        self.all_houses = list(itertools.product(list(range(0,self.width)), list(range(0,self.height))))\n",
    "        random.shuffle(self.all_houses)\n",
    "        \n",
    "        self.n_empty = int(self.width*self.height*self.empty_ratio)\n",
    "        self.empty_houses = self.all_houses[-self.n_empty:]\n",
    "        self.remaining_houses = self.all_houses[:-self.n_empty]\n",
    "        \n",
    "        for agent in self.remaining_houses:\n",
    "            self.agents[agent] = random.randint(1,self.races)\n",
    "    \n",
    "    def plot_city(self):\n",
    "        colour = {1:'r',2:'b',3:'g'}\n",
    "        counter = 1\n",
    "        #for agent in range(len(self.agents)):\n",
    "         #   if self.agents[agent] == counter:\n",
    "        fig, ax = plt.subplots()\n",
    "        for key,value in self.agents.items():\n",
    "            ax.scatter(key[0]+0.5,key[1]+0.5, marker = 's',s=500,c=colour[value])\n",
    "        plt.subplots_adjust(wspace=1)\n",
    "        plt.grid()\n",
    "        plt.xticks(list(range(self.width)))\n",
    "        plt.yticks(list(range(self.height)))\n",
    "        plt.show()\n",
    "        \n",
    "    def is_unsatisfied(self, ha):\n",
    "        neighbors = []\n",
    "        for x in [-1, 0, +1]:\n",
    "                 for y in [-1,0,1]:\n",
    "                        if ha[0]+x >= 0 and ha[0]+x < self.width and ha[1]+y >= 0 and ha[1]+y <self.height:\n",
    "                            neighbor = ((ha[0]+x,ha[1]+y))\n",
    "                            neighbors.append(neighbor)\n",
    "        total_race = len(neighbors)\n",
    "        print(total_race)\n",
    "        curr_house_race = self.agents[ha]\n",
    "        same_race = 0\n",
    "        for n in neighbors:\n",
    "            if curr_house_race == self.agents.get(n, 0):\n",
    "                same_race += 1\n",
    "        different_race = len(neighbors) - same_race\n",
    "        ratio = same_race / len(neighbors)\n",
    "        print(ratio)\n",
    "        if ratio < self.similarity_threshold:\n",
    "            return False\n",
    "        else:\n",
    "            return True\n",
    "        \n",
    "    def update(self, ha):\n",
    "        if self.is_unsatisfied(ha):\n",
    "            rand_int = random.randint(0, len(self.empty_houses)-1)\n",
    "            satisfied = self.empty_houses.pop(rand_int)\n",
    "            self.empty_houses.append(ha)\n",
    "            self.remaining_houses.remove(ha)\n",
    "            race = self.agents.pop(ha)\n",
    "            self.remaining_houses.append(satisfied)\n",
    "            self.agents[satisfied] = race\n",
    "\n",
    "            \n",
    "    def similarity_index(self):\n",
    "        index_of_similarity = 0\n",
    "        for ha in self.remaining_houses:\n",
    "            curr_house_race = self.agents[ha]\n",
    "            neighbors = []\n",
    "            for x in [-1, 0, +1]:\n",
    "                 for y in [-1,0,1]:\n",
    "                        if ha[0]+x >= 0 and ha[0]+x < self.width and ha[1]+y >= 0 and ha[1]+y <self.height:\n",
    "                            neighbor = ((ha[0]+x,ha[1]+y))\n",
    "                            neighbors.append(neighbor)\n",
    "            same_race = 0\n",
    "            different_race = 0\n",
    "            for n in neighbors:\n",
    "                if curr_house_race == self.agents.get(n, -1):\n",
    "                    same_race += 1\n",
    "                    \n",
    "                index_of_similarity += same_race / different_race\n",
    "        return index_of_similarity / len(self.remaining_houses)\n",
    "        \n",
    "       \n",
    "            \n",
    "     \n",
    "            \n",
    "        "
   ]
  },
  {
   "cell_type": "code",
   "execution_count": 424,
   "metadata": {},
   "outputs": [
    {
     "data": {
      "image/png": "[encoded data removed]",
      "text/plain": [
       "<Figure size 432x288 with 1 Axes>"
      ]
     },
     "metadata": {
      "needs_background": "light"
     },
     "output_type": "display_data"
    },
    {
     "name": "stdout",
     "output_type": "stream",
     "text": [
      "6\n",
      "0.16666666666666666\n"
     ]
    },
    {
     "data": {
      "text/plain": [
       "False"
      ]
     },
     "execution_count": 424,
     "metadata": {},
     "output_type": "execute_result"
    }
   ],
   "source": [
    "city = Schelling(12,10,0.3,0.5,100,3)\n",
    "city.populate()\n",
    "#print(city.agents)\n",
    "city.plot_city()\n",
    "city.is_unsatisfied((9,0))\n"
   ]
  },
  {
   "cell_type": "code",
   "execution_count": 426,
   "metadata": {},
   "outputs": [
    {
     "name": "stdout",
     "output_type": "stream",
     "text": [
      "6\n",
      "0.16666666666666666\n"
     ]
    },
    {
     "data": {
      "image/png": "[encoded data removed]",
      "text/plain": [
       "<Figure size 432x288 with 1 Axes>"
      ]
     },
     "metadata": {
      "needs_background": "light"
     },
     "output_type": "display_data"
    }
   ],
   "source": [
    "city.update((9,0))\n",
    "city.plot_city()"
   ]
  },
  {
   "cell_type": "code",
   "execution_count": 427,
   "metadata": {},
   "outputs": [
    {
     "ename": "ZeroDivisionError",
     "evalue": "division by zero",
     "output_type": "error",
     "traceback": [
      "\u001b[0;31m---------------------------------------------------------------------------\u001b[0m",
      "\u001b[0;31mZeroDivisionError\u001b[0m                         Traceback (most recent call last)",
      "\u001b[0;32m/var/folders/kd/6jlmmjxn3ld0_k3y6m10spvh0000gn/T/ipykernel_17795/3671894005.py\u001b[0m in \u001b[0;36m<module>\u001b[0;34m\u001b[0m\n\u001b[0;32m----> 1\u001b[0;31m \u001b[0mcity\u001b[0m\u001b[0;34m.\u001b[0m\u001b[0msimilarity_index\u001b[0m\u001b[0;34m(\u001b[0m\u001b[0;34m)\u001b[0m\u001b[0;34m\u001b[0m\u001b[0;34m\u001b[0m\u001b[0m\n\u001b[0m",
      "\u001b[0;32m/var/folders/kd/6jlmmjxn3ld0_k3y6m10spvh0000gn/T/ipykernel_17795/2337168736.py\u001b[0m in \u001b[0;36msimilarity_index\u001b[0;34m(self)\u001b[0m\n\u001b[1;32m     83\u001b[0m                     \u001b[0msame_race\u001b[0m \u001b[0;34m+=\u001b[0m \u001b[0;36m1\u001b[0m\u001b[0;34m\u001b[0m\u001b[0;34m\u001b[0m\u001b[0m\n\u001b[1;32m     84\u001b[0m \u001b[0;34m\u001b[0m\u001b[0m\n\u001b[0;32m---> 85\u001b[0;31m                 \u001b[0mindex_of_similarity\u001b[0m \u001b[0;34m+=\u001b[0m \u001b[0msame_race\u001b[0m \u001b[0;34m/\u001b[0m \u001b[0mdifferent_race\u001b[0m\u001b[0;34m\u001b[0m\u001b[0;34m\u001b[0m\u001b[0m\n\u001b[0m\u001b[1;32m     86\u001b[0m         \u001b[0;32mreturn\u001b[0m \u001b[0mindex_of_similarity\u001b[0m \u001b[0;34m/\u001b[0m \u001b[0mlen\u001b[0m\u001b[0;34m(\u001b[0m\u001b[0mself\u001b[0m\u001b[0;34m.\u001b[0m\u001b[0mremaining_houses\u001b[0m\u001b[0;34m)\u001b[0m\u001b[0;34m\u001b[0m\u001b[0;34m\u001b[0m\u001b[0m\n\u001b[1;32m     87\u001b[0m \u001b[0;34m\u001b[0m\u001b[0m\n",
      "\u001b[0;31mZeroDivisionError\u001b[0m: division by zero"
     ]
    }
   ],
   "source": [
    "city.similarity_index()"
   ]
  },
  {
   "cell_type": "code",
   "execution_count": 345,
   "metadata": {},
   "outputs": [
    {
     "ename": "IndentationError",
     "evalue": "unexpected indent (3111426072.py, line 2)",
     "output_type": "error",
     "traceback": [
      "\u001b[0;36m  File \u001b[0;32m\"/var/folders/kd/6jlmmjxn3ld0_k3y6m10spvh0000gn/T/ipykernel_17795/3111426072.py\"\u001b[0;36m, line \u001b[0;32m2\u001b[0m\n\u001b[0;31m    for i in [ha[0]-1, ha[0], ha[0]+1]:\u001b[0m\n\u001b[0m    ^\u001b[0m\n\u001b[0;31mIndentationError\u001b[0m\u001b[0;31m:\u001b[0m unexpected indent\n"
     ]
    }
   ],
   "source": [
    "neighbors = []\n",
    "        for i in [ha[0]-1, ha[0], ha[0]+1]:\n",
    "            for j in [ha[1]-1, ha[1], ha[1]+1]:\n",
    "                if i >= 0 or i < self.width or j >= 0 or j < self.height:\n",
    "                    continue\n",
    "                neighbors.append((i, j))\n",
    "        return neighbors"
   ]
  },
  {
   "cell_type": "markdown",
   "metadata": {},
   "source": [
    "#### B. Write a method called **populate** which can be used to create an initial distribution of people in the grid.\n",
    "\n",
    "To do this, we will try to design the method as follows:\n",
    "\n",
    "1. the method creates new attributes: ```self.empty_houses``` as an empty list, ```self.agents``` as an empty dictionary. \n",
    "2. the method creates a new attribute ```self.all_houses``` as a list of all houses (hint: use ```itertools```, see suggestions below)\n",
    "3. the method randomizes the allocation of houses (hint: use ```random.shuffle()``` for this task, see below)\n",
    "4. the method creates a new attribute ```self.n_empty``` which is derived as the number of the empty houses (this is calculated by using the ```self.empty_ratio``` and the number of houses in the city )\n",
    "5. the method sets the empty_houses to be the last ```self.n_empty``` houses\n",
    "6. the remaining houses are assigned to ```self.remaining_houses```\n",
    "7. we use ```self.remainging_houses``` to assign races to each house, creating a variable called ```houses_by_races```\n",
    "8. we fill the dictionary ```self.agents``` with the ```house_by_race``` in which each agent lives (hint: use ```zip``` and the ```update``` method for dictionaries.\n"
   ]
  },
  {
   "cell_type": "markdown",
   "metadata": {},
   "source": [
    "#### C. Write a method called **plot_city** which plots the city with all the empty and occupied houses with the right colours. \n",
    "\n",
    "The method ```plot_city``` sets up the parameters for the graph, and spits out fig and ax objects (matplotlib). Notice that we need to set xticks and yticks of the grid, and the grid itself (check [matplotlib](https://matplotlib.org/) documentation for details). The grid should have the dimension indicated by width and height attributes. Consider a scatter plot with square markers (also important to determine the right size for them)\n",
    "\n",
    "Use this method to plot an instance of the class. "
   ]
  },
  {
   "cell_type": "markdown",
   "metadata": {},
   "source": [
    "#### D. Write a method called **is_unsatisfied** which evaluates if a specific cell in the grid is satisfied with the location or not. \n",
    "\n",
    "This method should check if an agent in a cell is unsatisfied with the neighbours it has or not. This task can be done in several ways, but here is a suggestion:\n",
    "\n",
    "1. create a method which takes the coordinates of the house as arguments (on top of the object instance). \n",
    "2. the method builds a set of neighbours using this picture as reference: \n",
    "\n",
    "<img src=\"CA-Moore.png\" alt=\"alt text\" width=\"200\"/>\n",
    "\n",
    "3. the method then checks if each of these neighbours is of the same race or not, and counts how many neighbours are of the same race, and how many aren't. \n",
    "4. The method returns ```True``` if the ratio of same race neighbours to total is less than the similarity threshold, ```False``` otherwise. "
   ]
  },
  {
   "cell_type": "markdown",
   "metadata": {},
   "source": [
    "#### E. Write a method called **update** which checks each cell in the grid, verifies if it is satisfied or not, and if not it moves it to a random empty cell. \n",
    "\n",
    "This method checks if each agent is unsatisfied, and in that case, it fills a randomly chosen empty house with it. \n",
    "Important: remember to remove the location of the emptied house from ```self.agents``` and add it to ```self.empty_houses```!"
   ]
  },
  {
   "cell_type": "markdown",
   "metadata": {},
   "source": [
    "#### F. Create a method that calculates an index of similarity \n",
    "\n",
    "To calculate this index:\n",
    "1. calculate for each agent the ratio between the neighbours of the same race to the neighbours from a different race. \n",
    "2. sum up, and divide by the number of agents. "
   ]
  },
  {
   "cell_type": "markdown",
   "metadata": {},
   "source": [
    "#### G. Use this class to generate some experiments, by playing with the parameters (size of the city, similarity threshold, number of races, etc.) \n",
    "\n",
    "Make several experiments to analyse how the results change when we change one parameter at the time. "
   ]
  },
  {
   "cell_type": "markdown",
   "metadata": {},
   "source": [
    "## Things we may want to learn\n",
    "\n",
    "```itertools.product(x, y)``` is a great way to create all the possible combinations of elements of x and y"
   ]
  },
  {
   "cell_type": "code",
   "execution_count": 13,
   "metadata": {},
   "outputs": [
    {
     "name": "stdout",
     "output_type": "stream",
     "text": [
      "[(1, 4), (1, 5), (1, 6), (2, 4), (2, 5), (2, 6), (3, 4), (3, 5), (3, 6)]\n"
     ]
    }
   ],
   "source": [
    "import itertools\n",
    "\n",
    "a = [1, 2, 3]\n",
    "b = [4, 5, 6]\n",
    "\n",
    "c = list(itertools.product(a, b))\n",
    "print(c)"
   ]
  },
  {
   "cell_type": "markdown",
   "metadata": {},
   "source": [
    "```random.shuffle()``` does a random reshuffling of a list"
   ]
  },
  {
   "cell_type": "code",
   "execution_count": 2,
   "metadata": {},
   "outputs": [
    {
     "name": "stdout",
     "output_type": "stream",
     "text": [
      "[4, 2, 7, 6, 5, 1, 3]\n"
     ]
    }
   ],
   "source": [
    "import random\n",
    "\n",
    "d = [1, 2, 3, 4, 5, 6, 7]\n",
    "random.shuffle(d)\n",
    "\n",
    "print(d)"
   ]
  },
  {
   "cell_type": "code",
   "execution_count": null,
   "metadata": {},
   "outputs": [],
   "source": [
    "self.width = [1, 2, 3]\n",
    "self.height = [4, 5, 6]\n",
    "\n",
    "self.all_houses = \n"
   ]
  }
 ],
 "metadata": {
  "file_extension": ".py",
  "kernelspec": {
   "display_name": "Python 3",
   "language": "python",
   "name": "python3"
  },
  "language_info": {
   "codemirror_mode": {
    "name": "ipython",
    "version": 3
   },
   "file_extension": ".py",
   "mimetype": "text/x-python",
   "name": "python",
   "nbconvert_exporter": "python",
   "pygments_lexer": "ipython3",
   "version": "3.7.4"
  },
  "mimetype": "text/x-python",
  "name": "python",
  "npconvert_exporter": "python",
  "pygments_lexer": "ipython3",
  "version": 3
 },
 "nbformat": 4,
 "nbformat_minor": 4
}
