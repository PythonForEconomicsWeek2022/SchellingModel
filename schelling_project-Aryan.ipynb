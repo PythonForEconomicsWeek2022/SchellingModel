{
 "cells": [
  {
   "cell_type": "code",
   "execution_count": 1,
   "metadata": {},
   "outputs": [],
   "source": [
    "import matplotlib.pyplot as plt\n",
    "import itertools\n",
    "import random\n",
    "import copy"
   ]
  },
  {
   "cell_type": "markdown",
   "metadata": {},
   "source": [
    "#### A. Create a class called **Schelling**, with attributes width (how many houses there are on the horizontal axis), height (how many houses on the vertical axis), empty_ratio (number of empty locations), similarity_threshold (the percentage of neighbours that you want to have in your neighbourhood), n_iterations (how many iterations of the Schelling process we do), races (number of races). (Note: we will add other attributes along the way)."
   ]
  },
  {
   "cell_type": "code",
   "execution_count": 111,
   "metadata": {},
   "outputs": [],
   "source": [
    "class Schelling:\n",
    "    \n",
    "    \n",
    "    def __init__(self,width,height,empty_ratio,similarity_threshold,n_iterations,races):\n",
    "        self.width = width\n",
    "        self.height = height\n",
    "        self.empty_ratio = empty_ratio\n",
    "        self.similarity_threshold = similarity_threshold\n",
    "        self.n_iterations = n_iterations\n",
    "        self.races = races\n",
    "        \n",
    "    def populate(self):\n",
    "        self.empty_houses = []\n",
    "        self.agents = {}\n",
    "        self.all_houses = list(itertools.product(list(range(0,self.width)),list(range(0,self.height))))\n",
    "        random.shuffle(self.all_houses)\n",
    "        self.n_empty = int(self.width*self.height*self.empty_ratio)\n",
    "        self.empty_houses = self.all_houses[-self.n_empty:]\n",
    "        self.remaining_houses = self.all_houses[:-self.n_empty]\n",
    "            \n",
    "        for i in self.remaining_houses:\n",
    "            self.agents[i] = random.randint(1,self.races)\n",
    "        \n",
    "    def plot_city(self):\n",
    "        colour = {1:'r',2:'b',3:'g'}\n",
    "        counter = 1\n",
    "        fig, ax = plt.subplots()\n",
    "        for key,value in self.agents.items():\n",
    "            ax.scatter(key[0]+0.5,key[1]+0.5, marker = 's',s=500,c=colour[value])\n",
    "        plt.subplots_adjust(wspace=0)\n",
    "        plt.grid()\n",
    "        plt.xticks(list(range(self.width)))\n",
    "        plt.yticks(list(range(self.height)))\n",
    "        plt.show()\n",
    "        \n",
    "    def is_unsatisfied(self,agent):\n",
    "        neighbours = []\n",
    "        for x in [-1,0,1]:\n",
    "            for y in [-1,0,1]:\n",
    "                if agent[0]+x >= 0 and agent[0]+x < self.width and agent[1]+y >= 0 and agent[1]+y < self.height:\n",
    "                    neighbour = ((agent[0]+x, agent[1]+y))\n",
    "                    neighbours.append(neighbour)\n",
    "        neighbours.remove(agent)\n",
    "        race = self.agents[agent]\n",
    "        similarity_counter = 0\n",
    "        for n in neighbours:\n",
    "            if  race == self.agents.get(n,0):\n",
    "                similarity_counter += 1\n",
    "        similarity_ratio = similarity_counter/ len(neighbours)\n",
    "        if similarity_ratio < self.similarity_threshold:\n",
    "            return False\n",
    "        else:\n",
    "            return True \n",
    "\n",
    "        \n",
    "        \n",
    "        \n",
    "            "
   ]
  },
  {
   "cell_type": "code",
   "execution_count": 112,
   "metadata": {},
   "outputs": [
    {
     "data": {
      "image/png": "[encoded data removed]",
      "text/plain": [
       "<Figure size 432x288 with 1 Axes>"
      ]
     },
     "metadata": {
      "needs_background": "light"
     },
     "output_type": "display_data"
    },
    {
     "data": {
      "text/plain": [
       "False"
      ]
     },
     "execution_count": 112,
     "metadata": {},
     "output_type": "execute_result"
    }
   ],
   "source": [
    "city = Schelling(10,10,0.2,0.3,100,3)\n",
    "city.populate()\n",
    "city.plot_city()\n",
    "city.is_unsatisfied((5,3))"
   ]
  },
  {
   "cell_type": "markdown",
   "metadata": {},
   "source": [
    "#### B. Write a method called **populate** which can be used to create an initial distribution of people in the grid.\n",
    "\n",
    "To do this, we will try to design the method as follows:\n",
    "\n",
    "1. the method creates new attributes: ```self.empty_houses``` as an empty list, ```self.agents``` as an empty dictionary. \n",
    "2. the method creates a new attribute ```self.all_houses``` as a list of all houses (hint: use ```itertools```, see suggestions below)\n",
    "3. the method randomizes the allocation of houses (hint: use ```random.shuffle()``` for this task, see below)\n",
    "4. the method creates a new attribute ```self.n_empty``` which is derived as the number of the empty houses (this is calculated by using the ```self.empty_ratio``` and the number of houses in the city )\n",
    "5. the method sets the empty_houses to be the last ```self.n_empty``` houses\n",
    "6. the remaining houses are assigned to ```self.remaining_houses```\n",
    "7. we use ```self.remainging_houses``` to assign races to each house, creating a variable called ```houses_by_races```\n",
    "8. we fill the dictionary ```self.agents``` with the ```house_by_race``` in which each agent lives (hint: use ```zip``` and the ```update``` method for dictionaries.\n"
   ]
  },
  {
   "cell_type": "markdown",
   "metadata": {},
   "source": [
    "#### C. Write a method called **plot_city** which plots the city with all the empty and occupied houses with the right colours. \n",
    "\n",
    "The method ```plot_city``` sets up the parameters for the graph, and spits out fig and ax objects (matplotlib). Notice that we need to set xticks and yticks of the grid, and the grid itself (check [matplotlib](https://matplotlib.org/) documentation for details). The grid should have the dimension indicated by width and height attributes. Consider a scatter plot with square markers (also important to determine the right size for them)\n",
    "\n",
    "Use this method to plot an instance of the class. "
   ]
  },
  {
   "cell_type": "markdown",
   "metadata": {},
   "source": [
    "#### D. Write a method called **is_unsatisfied** which evaluates if a specific cell in the grid is satisfied with the location or not. \n",
    "\n",
    "This method should check if an agent in a cell is unsatisfied with the neighbours it has or not. This task can be done in several ways, but here is a suggestion:\n",
    "\n",
    "1. create a method which takes the coordinates of the house as arguments (on top of the object instance). \n",
    "2. the method builds a set of neighbours using this picture as reference: \n",
    "\n",
    "<img src=\"CA-Moore.png\" alt=\"alt text\" width=\"200\"/>\n",
    "\n",
    "3. the method then checks if each of these neighbours is of the same race or not, and counts how many neighbours are of the same race, and how many aren't. \n",
    "4. The method returns ```True``` if the ratio of same race neighbours to total is less than the similarity threshold, ```False``` otherwise. "
   ]
  },
  {
   "cell_type": "markdown",
   "metadata": {},
   "source": [
    "#### E. Write a method called **update** which checks each cell in the grid, verifies if it is satisfied or not, and if not it moves it to a random empty cell. \n",
    "\n",
    "This method checks if each agent is unsatisfied, and in that case, it fills a randomly chosen empty house with it. \n",
    "Important: remember to remove the location of the emptied house from ```self.agents``` and add it to ```self.empty_houses```!"
   ]
  },
  {
   "cell_type": "markdown",
   "metadata": {},
   "source": [
    "#### F. Create a method that calculates an index of similarity \n",
    "\n",
    "To calculate this index:\n",
    "1. calculate for each agent the ratio between the neighbours of the same race to the neighbours from a different race. \n",
    "2. sum up, and divide by the number of agents. "
   ]
  },
  {
   "cell_type": "markdown",
   "metadata": {},
   "source": [
    "#### G. Use this class to generate some experiments, by playing with the parameters (size of the city, similarity threshold, number of races, etc.) \n",
    "\n",
    "Make several experiments to analyse how the results change when we change one parameter at the time. "
   ]
  }
 ],
 "metadata": {
  "file_extension": ".py",
  "kernelspec": {
   "display_name": "Python 3",
   "language": "python",
   "name": "python3"
  },
  "language_info": {
   "codemirror_mode": {
    "name": "ipython",
    "version": 3
   },
   "file_extension": ".py",
   "mimetype": "text/x-python",
   "name": "python",
   "nbconvert_exporter": "python",
   "pygments_lexer": "ipython3",
   "version": "3.7.4"
  },
  "mimetype": "text/x-python",
  "name": "python",
  "npconvert_exporter": "python",
  "pygments_lexer": "ipython3",
  "version": 3
 },
 "nbformat": 4,
 "nbformat_minor": 4
}
